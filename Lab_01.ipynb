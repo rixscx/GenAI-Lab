{
  "nbformat": 4,
  "nbformat_minor": 0,
  "metadata": {
    "colab": {
      "provenance": [],
      "gpuType": "T4"
    },
    "kernelspec": {
      "name": "python3",
      "display_name": "Python 3"
    },
    "language_info": {
      "name": "python"
    },
    "accelerator": "GPU"
  },
  "cells": [
    {
      "cell_type": "markdown",
      "source": [
        "# LAB 1: Explore pre-trained word vectors. Explore word relationships using vector arithmetic. Perform arithmetic operations and analyze results."
      ],
      "metadata": {
        "id": "B-dR6gku5GcY"
      }
    },
    {
      "cell_type": "markdown",
      "source": [
        "# Step 1: Import Required Libraries"
      ],
      "metadata": {
        "id": "Xsbj4JGi5BGU"
      }
    },
    {
      "cell_type": "code",
      "source": [
        "import os\n",
        "import gensim.downloader as api\n",
        "import numpy as np\n",
        "from gensim.models import KeyedVectors\n",
        "from google.colab import drive"
      ],
      "metadata": {
        "id": "0hWPa_9_3upC"
      },
      "execution_count": null,
      "outputs": []
    },
    {
      "cell_type": "markdown",
      "source": [
        "# Step 2: Mount Google Drive"
      ],
      "metadata": {
        "id": "QooSXB9C4wWW"
      }
    },
    {
      "cell_type": "code",
      "source": [
        "drive.mount('/content/drive')"
      ],
      "metadata": {
        "colab": {
          "base_uri": "https://localhost:8080/"
        },
        "id": "_I5__wBN43lI",
        "outputId": "5c57680c-d232-4ef4-f181-a6b01b95ce10"
      },
      "execution_count": null,
      "outputs": [
        {
          "output_type": "stream",
          "name": "stdout",
          "text": [
            "Drive already mounted at /content/drive; to attempt to forcibly remount, call drive.mount(\"/content/drive\", force_remount=True).\n"
          ]
        }
      ]
    },
    {
      "cell_type": "markdown",
      "source": [
        "# Define model path in Google Drive"
      ],
      "metadata": {
        "id": "RzFAg8Zx4wSv"
      }
    },
    {
      "cell_type": "code",
      "source": [
        "model_path = \"/content/drive/My Drive/word2vec-google-news-300.model\""
      ],
      "metadata": {
        "id": "ZrOdpPPj45Qt"
      },
      "execution_count": null,
      "outputs": []
    },
    {
      "cell_type": "markdown",
      "source": [
        "# Step 3: Load or Download the Word2Vec Model"
      ],
      "metadata": {
        "id": "jRLfFZaV5TO9"
      }
    },
    {
      "cell_type": "code",
      "source": [
        "if os.path.exists(model_path):\n",
        "  print(\"Model found in Google Drive..Loading\")\n",
        "  word_vectors = KeyedVectors.load(model_path)\n",
        "else:\n",
        "  print(\"Model not found. Downloading Word2Vec model...\")\n",
        "  word_vectors = api.load(\"word2vec-google-news-300\")\n",
        "  print(\"Saving model to Google Drive for future use...\")\n",
        "  word_vectors.save(model_path)\n",
        "  print(\"Model saved successfully\")\n",
        "  print(\"\\nModel Loaded Successfully\\n\")"
      ],
      "metadata": {
        "colab": {
          "base_uri": "https://localhost:8080/"
        },
        "id": "kUL4gDux5P8-",
        "outputId": "6a44738d-3e5b-41dc-b83c-29bee3551796"
      },
      "execution_count": null,
      "outputs": [
        {
          "output_type": "stream",
          "name": "stdout",
          "text": [
            "Model not found. Downloading Word2Vec model...\n",
            "[==================================================] 100.0% 1662.8/1662.8MB downloaded\n",
            "Saving model to Google Drive for future use...\n",
            "Model saved successfully\n",
            "\n",
            "Model Loaded Successfully\n",
            "\n"
          ]
        }
      ]
    },
    {
      "cell_type": "markdown",
      "source": [
        "# Step 4: Find Similar Words"
      ],
      "metadata": {
        "id": "3YJrqJvL53i4"
      }
    },
    {
      "cell_type": "code",
      "source": [
        "print(\"Top 5 words similar to 'computer':\")\n",
        "similar_words = word_vectors.most_similar(\"computer\", topn=5)\n",
        "for word, similarity in similar_words:\n",
        "  print(f\"{word}: {similarity:.4f}\")"
      ],
      "metadata": {
        "colab": {
          "base_uri": "https://localhost:8080/"
        },
        "id": "dzqzZBGw6Gkv",
        "outputId": "dff8ca31-2200-43fb-cae9-f37058006f55"
      },
      "execution_count": null,
      "outputs": [
        {
          "output_type": "stream",
          "name": "stdout",
          "text": [
            "Top 5 words similar to 'computer':\n",
            "computers: 0.7979\n",
            "laptop: 0.6640\n",
            "laptop_computer: 0.6549\n",
            "Computer: 0.6473\n",
            "com_puter: 0.6082\n"
          ]
        }
      ]
    },
    {
      "cell_type": "markdown",
      "source": [
        "# Step 5: Word Vector Arithmetic"
      ],
      "metadata": {
        "id": "E-CN8pfx6H3b"
      }
    },
    {
      "cell_type": "code",
      "source": [
        "print(\"\\nPerforming Vector Arithmetic: 'king - man + woman'\")\n",
        "# king - man + woman = ?\n",
        "result = word_vectors.most_similar(positive=['king', 'woman'], negative=['man'], topn=1)\n",
        "print(f\"Result: {result[0][0]}\")  # Expected output: 'queen'"
      ],
      "metadata": {
        "colab": {
          "base_uri": "https://localhost:8080/"
        },
        "id": "FGO3HTmZ6CeQ",
        "outputId": "4c97c71a-9268-4a8d-ce3b-979df3b2d2e9"
      },
      "execution_count": null,
      "outputs": [
        {
          "output_type": "stream",
          "name": "stdout",
          "text": [
            "\n",
            "Performing Vector Arithmetic: 'king - man + woman'\n",
            "Result: queen\n"
          ]
        }
      ]
    },
    {
      "cell_type": "markdown",
      "source": [
        "# Step 6: More Arithmetic Operations"
      ],
      "metadata": {
        "id": "9eboHOla611i"
      }
    },
    {
      "cell_type": "code",
      "source": [
        "print(\"\\n More Examples of Vector Arithmetic:\")\n",
        "examples = [\n",
        "(\"Paris\", \"France\", \"Italy\"),\n",
        "(\"Einstein\", \"scientist\", \"painter\")\n",
        "]\n",
        "for w1, w2, w3 in examples:\n",
        "  result = word_vectors.most_similar(positive=[w1, w3], negative=[w2], topn=1)\n",
        "  print(f\"{w1} - {w2} + {w3} = {result[0][0]}\")"
      ],
      "metadata": {
        "colab": {
          "base_uri": "https://localhost:8080/"
        },
        "id": "1vgst9UT65nw",
        "outputId": "01e5e80e-2430-4154-a7cc-755c0b276e21"
      },
      "execution_count": null,
      "outputs": [
        {
          "output_type": "stream",
          "name": "stdout",
          "text": [
            "\n",
            " More Examples of Vector Arithmetic:\n",
            "Paris - France + Italy = Milan\n",
            "Einstein - scientist + painter = Picasso\n"
          ]
        }
      ]
    },
    {
      "cell_type": "markdown",
      "source": [
        "# Step 7: Visualizing Word Embeddings using PCA"
      ],
      "metadata": {
        "id": "hE-z53_U7Sud"
      }
    },
    {
      "cell_type": "markdown",
      "source": [
        "# Apply PCA (300D → 2D)"
      ],
      "metadata": {
        "id": "d9nBKzm17bQg"
      }
    },
    {
      "cell_type": "code",
      "source": [
        "!pip install scikit-learn  # Install scikit-learn if you haven't already\n",
        "from sklearn.decomposition import PCA # Import the PCA class from sklearn.decomposition\n",
        "\n",
        "def plot_embeddings(word_list):\n",
        "  \"\"\"Function to reduce 300D word vectors to 2D using PCA and plot them.\"\"\"\n",
        "  vectors = np.array([word_vectors[word] for word in word_list])\n",
        "  return vectors # Return the vectors\n",
        "\n",
        "# Example usage:\n",
        "word_list = [\"king\", \"queen\", \"man\", \"woman\"] # Define a list of words\n",
        "vectors = plot_embeddings(word_list) # Call the function to create vectors\n",
        "\n",
        "pca = PCA(n_components=2)\n",
        "reduced_vectors = pca.fit_transform(vectors) # Now vectors is defined and can be used"
      ],
      "metadata": {
        "colab": {
          "base_uri": "https://localhost:8080/"
        },
        "id": "fTQ_xz5q7tL_",
        "outputId": "ea397bf0-2568-4794-f4e1-9f3b23758a34"
      },
      "execution_count": null,
      "outputs": [
        {
          "output_type": "stream",
          "name": "stdout",
          "text": [
            "Requirement already satisfied: scikit-learn in /usr/local/lib/python3.11/dist-packages (1.6.1)\n",
            "Requirement already satisfied: numpy>=1.19.5 in /usr/local/lib/python3.11/dist-packages (from scikit-learn) (1.26.4)\n",
            "Requirement already satisfied: scipy>=1.6.0 in /usr/local/lib/python3.11/dist-packages (from scikit-learn) (1.13.1)\n",
            "Requirement already satisfied: joblib>=1.2.0 in /usr/local/lib/python3.11/dist-packages (from scikit-learn) (1.4.2)\n",
            "Requirement already satisfied: threadpoolctl>=3.1.0 in /usr/local/lib/python3.11/dist-packages (from scikit-learn) (3.5.0)\n"
          ]
        }
      ]
    },
    {
      "cell_type": "markdown",
      "source": [
        " # Plot the words in 2D space"
      ],
      "metadata": {
        "id": "q5TY4x2O8V3D"
      }
    },
    {
      "cell_type": "code",
      "source": [
        "!pip install scikit-learn matplotlib  # Install scikit-learn and matplotlib\n",
        "from sklearn.decomposition import PCA # Import the PCA class from sklearn.decomposition\n",
        "import matplotlib.pyplot as plt # Import the pyplot module for plotting\n",
        "\n",
        "def plot_embeddings(word_list):\n",
        "  \"\"\"Function to reduce 300D word vectors to 2D using PCA and plot them.\"\"\"\n",
        "  vectors = np.array([word_vectors[word] for word in word_list])\n",
        "  return vectors # Return the vectors\n",
        "\n",
        "# Example usage:\n",
        "word_list = [\"king\", \"queen\", \"man\", \"woman\"] # Define a list of words\n",
        "vectors = plot_embeddings(word_list) # Call the function to create vectors\n",
        "\n",
        "pca = PCA(n_components=2)\n",
        "reduced_vectors = pca.fit_transform(vectors) # Now vectors is defined and can be used\n",
        "\n",
        "# Plot the words in 2D space\n",
        "plt.figure(figsize=(8,6)) # Now plt is defined and can be used\n",
        "for i, word in enumerate(word_list):\n",
        "    plt.scatter(reduced_vectors[i, 0], reduced_vectors[i, 1])\n",
        "    plt.annotate(word, (reduced_vectors[i, 0], reduced_vectors[i, 1]), fontsize=12)\n",
        "\n",
        "plt.title(\"Word Embeddings Visualization using PCA\")\n",
        "plt.xlabel(\"PCA Component 1\")\n",
        "plt.ylabel(\"PCA Component 2\")\n",
        "plt.grid(True)\n",
        "plt.show()"
      ],
      "metadata": {
        "colab": {
          "base_uri": "https://localhost:8080/",
          "height": 836
        },
        "id": "8raNqF_A8Zl8",
        "outputId": "a1242087-06a7-4059-ebf6-e051034c266c"
      },
      "execution_count": null,
      "outputs": [
        {
          "output_type": "stream",
          "name": "stdout",
          "text": [
            "Requirement already satisfied: scikit-learn in /usr/local/lib/python3.11/dist-packages (1.6.1)\n",
            "Requirement already satisfied: matplotlib in /usr/local/lib/python3.11/dist-packages (3.10.0)\n",
            "Requirement already satisfied: numpy>=1.19.5 in /usr/local/lib/python3.11/dist-packages (from scikit-learn) (1.26.4)\n",
            "Requirement already satisfied: scipy>=1.6.0 in /usr/local/lib/python3.11/dist-packages (from scikit-learn) (1.13.1)\n",
            "Requirement already satisfied: joblib>=1.2.0 in /usr/local/lib/python3.11/dist-packages (from scikit-learn) (1.4.2)\n",
            "Requirement already satisfied: threadpoolctl>=3.1.0 in /usr/local/lib/python3.11/dist-packages (from scikit-learn) (3.5.0)\n",
            "Requirement already satisfied: contourpy>=1.0.1 in /usr/local/lib/python3.11/dist-packages (from matplotlib) (1.3.1)\n",
            "Requirement already satisfied: cycler>=0.10 in /usr/local/lib/python3.11/dist-packages (from matplotlib) (0.12.1)\n",
            "Requirement already satisfied: fonttools>=4.22.0 in /usr/local/lib/python3.11/dist-packages (from matplotlib) (4.56.0)\n",
            "Requirement already satisfied: kiwisolver>=1.3.1 in /usr/local/lib/python3.11/dist-packages (from matplotlib) (1.4.8)\n",
            "Requirement already satisfied: packaging>=20.0 in /usr/local/lib/python3.11/dist-packages (from matplotlib) (24.2)\n",
            "Requirement already satisfied: pillow>=8 in /usr/local/lib/python3.11/dist-packages (from matplotlib) (11.1.0)\n",
            "Requirement already satisfied: pyparsing>=2.3.1 in /usr/local/lib/python3.11/dist-packages (from matplotlib) (3.2.1)\n",
            "Requirement already satisfied: python-dateutil>=2.7 in /usr/local/lib/python3.11/dist-packages (from matplotlib) (2.8.2)\n",
            "Requirement already satisfied: six>=1.5 in /usr/local/lib/python3.11/dist-packages (from python-dateutil>=2.7->matplotlib) (1.17.0)\n"
          ]
        },
        {
          "output_type": "display_data",
          "data": {
            "text/plain": [
              "<Figure size 800x600 with 1 Axes>"
            ],
            "image/png": "[encoded data removed]"
          },
          "metadata": {}
        }
      ]
    },
    {
      "cell_type": "markdown",
      "source": [
        "# Step 8: Select Words for Visualization & Plot"
      ],
      "metadata": {
        "id": "JSz1Sl-g8x3z"
      }
    },
    {
      "cell_type": "code",
      "source": [
        "word_list = ['king', 'queen', 'man', 'woman', 'prince', 'princess', 'emperor', 'throne',\n",
        "'crown', 'ruler']\n",
        "print(\"\\nVisualizing Word Embeddings using PCA...\")\n",
        "plot_embeddings(word_list)"
      ],
      "metadata": {
        "colab": {
          "base_uri": "https://localhost:8080/"
        },
        "id": "Jq7dZBkF8iYn",
        "outputId": "ec9c32d2-cc6d-43dd-de68-f5579b0943ee"
      },
      "execution_count": null,
      "outputs": [
        {
          "output_type": "stream",
          "name": "stdout",
          "text": [
            "\n",
            "Visualizing Word Embeddings using PCA...\n"
          ]
        },
        {
          "output_type": "execute_result",
          "data": {
            "text/plain": [
              "array([[ 0.12597656,  0.02978516,  0.00860596, ..., -0.0859375 ,\n",
              "         0.09130859,  0.25195312],\n",
              "       [ 0.00524902, -0.14355469, -0.06933594, ..., -0.046875  ,\n",
              "         0.16308594,  0.15429688],\n",
              "       [ 0.32617188,  0.13085938,  0.03466797, ..., -0.30273438,\n",
              "        -0.08007812,  0.02099609],\n",
              "       ...,\n",
              "       [ 0.13964844,  0.07421875, -0.11669922, ...,  0.06445312,\n",
              "         0.12207031,  0.20410156],\n",
              "       [-0.20117188,  0.1953125 ,  0.01953125, ..., -0.17480469,\n",
              "         0.12158203,  0.08935547],\n",
              "       [ 0.05688477,  0.00210571,  0.18359375, ...,  0.15234375,\n",
              "        -0.06225586,  0.22558594]], dtype=float32)"
            ]
          },
          "metadata": {},
          "execution_count": 23
        }
      ]
    }
  ]
}